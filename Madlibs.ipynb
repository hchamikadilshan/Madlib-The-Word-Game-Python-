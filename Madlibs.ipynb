{
 "cells": [
  {
   "cell_type": "code",
   "execution_count": 8,
   "metadata": {},
   "outputs": [],
   "source": [
    "def runMadlibs():\n",
    "    name=input(\"Enter a Name:\")\n",
    "    age=input(\"Enter a age:\")\n",
    "    gender=input(\"Enter a gender:\")\n",
    "    city=input(\"Enter a city:\")\n",
    "    country=input(\"Enter a country:\")\n",
    "    number1=input(\"Enter a number:\")\n",
    "    Story=(f\"My name is {name}. I am {age} old.I am a {gender}.I was bone in\\\n",
    " {city} in {country}.I have a {number1} siblings.\")\n",
    "    \n",
    "    \n",
    "    print(Story)"
   ]
  },
  {
   "cell_type": "code",
   "execution_count": 9,
   "metadata": {},
   "outputs": [
    {
     "name": "stdout",
     "output_type": "stream",
     "text": [
      "Enter a Name:Chamika\n",
      "Enter a age:15\n",
      "Enter a gender:male\n",
      "Enter a city:LA\n",
      "Enter a country:USA\n",
      "Enter a number:45\n",
      "My name is Chamika. I am 15 old.I am a male.I was bone inLA in USA.I have a 45 siblings.\n"
     ]
    }
   ],
   "source": [
    "runMadlibs()"
   ]
  },
  {
   "cell_type": "code",
   "execution_count": null,
   "metadata": {},
   "outputs": [],
   "source": []
  }
 ],
 "metadata": {
  "kernelspec": {
   "display_name": "Python 3",
   "language": "python",
   "name": "python3"
  },
  "language_info": {
   "codemirror_mode": {
    "name": "ipython",
    "version": 3
   },
   "file_extension": ".py",
   "mimetype": "text/x-python",
   "name": "python",
   "nbconvert_exporter": "python",
   "pygments_lexer": "ipython3",
   "version": "3.8.5"
  }
 },
 "nbformat": 4,
 "nbformat_minor": 4
}
